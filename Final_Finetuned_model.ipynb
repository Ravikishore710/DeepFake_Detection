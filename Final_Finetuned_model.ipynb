{
  "nbformat": 4,
  "nbformat_minor": 0,
  "metadata": {
    "colab": {
      "provenance": [],
      "gpuType": "T4"
    },
    "kernelspec": {
      "name": "python3",
      "display_name": "Python 3"
    },
    "language_info": {
      "name": "python"
    },
    "accelerator": "GPU"
  },
  "cells": [
    {
      "cell_type": "code",
      "source": [
        "import kagglehub\n",
        "from pathlib import Path\n",
        "import torchvision.transforms as transforms\n",
        "from torchvision.datasets import ImageFolder\n",
        "from torch.utils.data import DataLoader\n",
        "\n",
        "# 1. Download the dataset\n",
        "base_path = Path(kagglehub.dataset_download(\"xhlulu/140k-real-and-fake-faces\"))\n",
        "\n",
        "# 2. Define paths\n",
        "dataset_root = base_path / \"real_vs_fake\" / \"real-vs-fake\"\n",
        "train_dir = dataset_root / \"train\"\n",
        "valid_dir = dataset_root / \"valid\"\n",
        "test_dir  = dataset_root / \"test\"\n",
        "\n",
        "# 3. Transforms\n",
        "transform = transforms.Compose([\n",
        "    transforms.Resize((128, 128)),    # Resize all images\n",
        "    transforms.ToTensor(),            # Convert to Tensor\n",
        "    transforms.Normalize([0.5]*3, [0.5]*3)  # Normalize to [-1, 1]\n",
        "])\n",
        "\n",
        "# 4. Load datasets\n",
        "train_data = ImageFolder(train_dir, transform=transform)\n",
        "valid_data = ImageFolder(valid_dir, transform=transform)\n",
        "test_data  = ImageFolder(test_dir, transform=transform)\n",
        "\n",
        "# 5. DataLoaders\n",
        "train_loader = DataLoader(train_data, batch_size=32, shuffle=True)\n",
        "valid_loader = DataLoader(valid_data, batch_size=32, shuffle=False)\n",
        "test_loader  = DataLoader(test_data, batch_size=32, shuffle=False)\n",
        "\n",
        "# 6. Check classes\n",
        "print(\"Classes:\", train_data.classes)\n",
        "print(\"Train size:\", len(train_data), \"| Valid:\", len(valid_data), \"| Test:\", len(test_data))\n"
      ],
      "metadata": {
        "colab": {
          "base_uri": "https://localhost:8080/"
        },
        "id": "fAv6QebeRyxu",
        "outputId": "5cefcf0b-e4bc-42d1-9386-94201fe461f5"
      },
      "execution_count": 12,
      "outputs": [
        {
          "output_type": "stream",
          "name": "stdout",
          "text": [
            "Classes: ['fake', 'real']\n",
            "Train size: 100000 | Valid: 20000 | Test: 20000\n"
          ]
        }
      ]
    },
    {
      "cell_type": "code",
      "source": [
        "import torch\n",
        "import torch.nn as nn\n",
        "import torch.optim as optim\n",
        "import timm # A great library for computer vision models\n",
        "import time\n",
        "\n",
        "# --- Setup ---\n",
        "DEVICE = torch.device(\"cuda\" if torch.cuda.is_available() else \"cpu\")\n",
        "EPOCHS = 3 # Start with 3 epochs for a quick training session\n",
        "LEARNING_RATE = 0.0001\n",
        "\n",
        "print(f\"✅ Using device: {DEVICE}\")\n",
        "\n",
        "# --- Model ---\n",
        "# Load a pre-trained XceptionNet model and adapt it for our 2 classes ('fake', 'real')\n",
        "model = timm.create_model('xception', pretrained=True, num_classes=2)\n",
        "model.to(DEVICE)\n",
        "\n",
        "# --- Loss and Optimizer ---\n",
        "criterion = nn.CrossEntropyLoss()\n",
        "optimizer = optim.AdamW(model.parameters(), lr=LEARNING_RATE)\n",
        "\n",
        "# --- Training Loop ---\n",
        "print(\"\\n🚀 Starting model training...\")\n",
        "start_time = time.time()\n",
        "\n",
        "for epoch in range(EPOCHS):\n",
        "    # Training phase\n",
        "    model.train()\n",
        "    train_loss, train_correct, train_total = 0, 0, 0\n",
        "    for inputs, labels in train_loader:\n",
        "        inputs, labels = inputs.to(DEVICE), labels.to(DEVICE)\n",
        "\n",
        "        optimizer.zero_grad()\n",
        "        outputs = model(inputs)\n",
        "        loss = criterion(outputs, labels)\n",
        "        loss.backward()\n",
        "        optimizer.step()\n",
        "\n",
        "        train_loss += loss.item() * inputs.size(0)\n",
        "        _, predicted = torch.max(outputs.data, 1)\n",
        "        train_total += labels.size(0)\n",
        "        train_correct += (predicted == labels).sum().item()\n",
        "\n",
        "    # Validation phase\n",
        "    model.eval()\n",
        "    valid_loss, valid_correct, valid_total = 0, 0, 0\n",
        "    with torch.no_grad():\n",
        "        for inputs, labels in valid_loader:\n",
        "            inputs, labels = inputs.to(DEVICE), labels.to(DEVICE)\n",
        "            outputs = model(inputs)\n",
        "            loss = criterion(outputs, labels)\n",
        "\n",
        "            valid_loss += loss.item() * inputs.size(0)\n",
        "            _, predicted = torch.max(outputs.data, 1)\n",
        "            valid_total += labels.size(0)\n",
        "            valid_correct += (predicted == labels).sum().item()\n",
        "\n",
        "    # Print epoch results\n",
        "    train_acc = 100 * train_correct / train_total\n",
        "    valid_acc = 100 * valid_correct / valid_total\n",
        "    print(f\"Epoch {epoch+1}/{EPOCHS} | \"\n",
        "          f\"Train Loss: {train_loss/train_total:.4f}, Train Acc: {train_acc:.2f}% | \"\n",
        "          f\"Valid Loss: {valid_loss/valid_total:.4f}, Valid Acc: {valid_acc:.2f}%\")\n",
        "\n",
        "end_time = time.time()\n",
        "print(f\"\\n🏁 Training finished in {(end_time - start_time)/60:.2f} minutes.\")\n",
        "\n",
        "# --- Save the Model ---\n",
        "MODEL_SAVE_PATH = \"deepfake_detector_model.pth\"\n",
        "torch.save(model.state_dict(), MODEL_SAVE_PATH)\n",
        "print(f\"\\n✅ Model saved to: {MODEL_SAVE_PATH}\")"
      ],
      "metadata": {
        "colab": {
          "base_uri": "https://localhost:8080/"
        },
        "id": "XPmNj1WdTrNN",
        "outputId": "5ed42ee0-cbee-4551-a8fb-dd6a11897b2f"
      },
      "execution_count": 13,
      "outputs": [
        {
          "output_type": "stream",
          "name": "stdout",
          "text": [
            "✅ Using device: cuda\n"
          ]
        },
        {
          "output_type": "stream",
          "name": "stderr",
          "text": [
            "/usr/local/lib/python3.11/dist-packages/timm/models/_factory.py:138: UserWarning: Mapping deprecated model name xception to current legacy_xception.\n",
            "  model = create_fn(\n"
          ]
        },
        {
          "output_type": "stream",
          "name": "stdout",
          "text": [
            "\n",
            "🚀 Starting model training...\n",
            "Epoch 1/3 | Train Loss: 0.1415, Train Acc: 94.37% | Valid Loss: 0.0479, Valid Acc: 98.28%\n",
            "Epoch 2/3 | Train Loss: 0.0292, Train Acc: 98.98% | Valid Loss: 0.0437, Valid Acc: 98.31%\n",
            "Epoch 3/3 | Train Loss: 0.0170, Train Acc: 99.40% | Valid Loss: 0.0289, Valid Acc: 98.94%\n",
            "\n",
            "🏁 Training finished in 39.81 minutes.\n",
            "\n",
            "✅ Model saved to: deepfake_detector_model.pth\n"
          ]
        }
      ]
    },
    {
      "cell_type": "code",
      "source": [
        "# --- Load the saved model ---\n",
        "model.load_state_dict(torch.load(MODEL_SAVE_PATH))\n",
        "model.to(DEVICE)\n",
        "model.eval()\n",
        "\n",
        "# --- Testing Loop ---\n",
        "test_correct, test_total = 0, 0\n",
        "with torch.no_grad():\n",
        "    for inputs, labels in test_loader:\n",
        "        inputs, labels = inputs.to(DEVICE), labels.to(DEVICE)\n",
        "        outputs = model(inputs)\n",
        "        _, predicted = torch.max(outputs.data, 1)\n",
        "        test_total += labels.size(0)\n",
        "        test_correct += (predicted == labels).sum().item()\n",
        "\n",
        "test_acc = 100 * test_correct / test_total\n",
        "print(f\"\\n📊 Final Test Accuracy: {test_acc:.2f}%\")"
      ],
      "metadata": {
        "colab": {
          "base_uri": "https://localhost:8080/"
        },
        "id": "bUNkSOFQT2jO",
        "outputId": "0794db97-5da7-49fe-f0d8-c8431814e597"
      },
      "execution_count": 14,
      "outputs": [
        {
          "output_type": "stream",
          "name": "stdout",
          "text": [
            "\n",
            "📊 Final Test Accuracy: 99.00%\n"
          ]
        }
      ]
    },
    {
      "cell_type": "code",
      "source": [
        "from sklearn.metrics import classification_report, confusion_matrix\n",
        "import numpy as np\n",
        "\n",
        "all_preds = []\n",
        "all_labels = []\n",
        "\n",
        "with torch.no_grad():\n",
        "    for inputs, labels in test_loader:\n",
        "        inputs, labels = inputs.to(DEVICE), labels.to(DEVICE)\n",
        "        outputs = model(inputs)\n",
        "        _, predicted = torch.max(outputs.data, 1)\n",
        "        all_preds.extend(predicted.cpu().numpy())\n",
        "        all_labels.extend(labels.cpu().numpy())\n",
        "\n",
        "print(confusion_matrix(all_labels, all_preds))\n",
        "print(classification_report(all_labels, all_preds, target_names=train_data.classes))\n"
      ],
      "metadata": {
        "colab": {
          "base_uri": "https://localhost:8080/"
        },
        "id": "38r50AO2ywU6",
        "outputId": "7ef41f47-2757-419d-f89c-c35a1ae22b4c"
      },
      "execution_count": 15,
      "outputs": [
        {
          "output_type": "stream",
          "name": "stdout",
          "text": [
            "[[9910   90]\n",
            " [ 109 9891]]\n",
            "              precision    recall  f1-score   support\n",
            "\n",
            "        fake       0.99      0.99      0.99     10000\n",
            "        real       0.99      0.99      0.99     10000\n",
            "\n",
            "    accuracy                           0.99     20000\n",
            "   macro avg       0.99      0.99      0.99     20000\n",
            "weighted avg       0.99      0.99      0.99     20000\n",
            "\n"
          ]
        }
      ]
    }
  ]
}